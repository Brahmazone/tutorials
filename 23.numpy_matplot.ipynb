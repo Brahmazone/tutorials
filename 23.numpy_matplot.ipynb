{
 "cells": [
  {
   "cell_type": "code",
   "execution_count": 1,
   "metadata": {},
   "outputs": [],
   "source": [
    "import numpy as np"
   ]
  },
  {
   "cell_type": "code",
   "execution_count": 4,
   "metadata": {},
   "outputs": [],
   "source": [
    "rndnumber = np.random.random(50)"
   ]
  },
  {
   "cell_type": "code",
   "execution_count": 5,
   "metadata": {},
   "outputs": [
    {
     "data": {
      "text/plain": [
       "array([0.30063604, 0.23649163, 0.80807199, 0.3543427 , 0.47623301,\n",
       "       0.00451098, 0.70187457, 0.11352971, 0.96325266, 0.59013489,\n",
       "       0.17450371, 0.64387527, 0.64582144, 0.36701054, 0.55303598,\n",
       "       0.02795409, 0.03706826, 0.34241236, 0.82050715, 0.1102681 ,\n",
       "       0.08869749, 0.41693944, 0.05448739, 0.03724763, 0.32858751,\n",
       "       0.92489551, 0.96223209, 0.51262601, 0.58536168, 0.7214532 ,\n",
       "       0.31018554, 0.06166831, 0.66927297, 0.05511909, 0.0877973 ,\n",
       "       0.94905345, 0.71518652, 0.41537744, 0.46286928, 0.0827761 ,\n",
       "       0.56361375, 0.24091376, 0.30925827, 0.76298339, 0.41119683,\n",
       "       0.42614801, 0.74535148, 0.48313967, 0.51278287, 0.64282491])"
      ]
     },
     "execution_count": 5,
     "metadata": {},
     "output_type": "execute_result"
    }
   ],
   "source": [
    "rndnumber"
   ]
  },
  {
   "cell_type": "code",
   "execution_count": 7,
   "metadata": {},
   "outputs": [
    {
     "data": {
      "text/plain": [
       "21.81158195194719"
      ]
     },
     "execution_count": 7,
     "metadata": {},
     "output_type": "execute_result"
    }
   ],
   "source": [
    "sum(rndnumber)"
   ]
  },
  {
   "cell_type": "code",
   "execution_count": 8,
   "metadata": {},
   "outputs": [
    {
     "data": {
      "text/plain": [
       "21.81158195194719"
      ]
     },
     "execution_count": 8,
     "metadata": {},
     "output_type": "execute_result"
    }
   ],
   "source": [
    "np.sum(rndnumber)"
   ]
  },
  {
   "cell_type": "code",
   "execution_count": 9,
   "metadata": {},
   "outputs": [],
   "source": [
    "rndnumber = np.random.random(5000000)"
   ]
  },
  {
   "cell_type": "code",
   "execution_count": 10,
   "metadata": {},
   "outputs": [
    {
     "name": "stdout",
     "output_type": "stream",
     "text": [
      "1.38 s ± 98.4 ms per loop (mean ± std. dev. of 7 runs, 1 loop each)\n",
      "9.63 ms ± 279 µs per loop (mean ± std. dev. of 7 runs, 100 loops each)\n"
     ]
    }
   ],
   "source": [
    "%timeit sum(rndnumber)\n",
    "%timeit np.sum(rndnumber)"
   ]
  },
  {
   "cell_type": "code",
   "execution_count": 11,
   "metadata": {},
   "outputs": [
    {
     "name": "stdout",
     "output_type": "stream",
     "text": [
      "754 ms ± 90.4 ms per loop (mean ± std. dev. of 7 runs, 1 loop each)\n",
      "4.2 ms ± 80.3 µs per loop (mean ± std. dev. of 7 runs, 100 loops each)\n"
     ]
    }
   ],
   "source": [
    "%timeit min(rndnumber)\n",
    "%timeit np.min(rndnumber)"
   ]
  },
  {
   "cell_type": "code",
   "execution_count": 12,
   "metadata": {},
   "outputs": [
    {
     "name": "stdout",
     "output_type": "stream",
     "text": [
      "700 ms ± 17.3 ms per loop (mean ± std. dev. of 7 runs, 1 loop each)\n",
      "4.1 ms ± 105 µs per loop (mean ± std. dev. of 7 runs, 100 loops each)\n"
     ]
    }
   ],
   "source": [
    "%timeit max(rndnumber)\n",
    "%timeit np.max(rndnumber)"
   ]
  },
  {
   "cell_type": "code",
   "execution_count": 15,
   "metadata": {},
   "outputs": [],
   "source": [
    "rndnumber = np.random.random((3,30))"
   ]
  },
  {
   "cell_type": "code",
   "execution_count": 16,
   "metadata": {},
   "outputs": [
    {
     "data": {
      "text/plain": [
       "array([[0.05262345, 0.65462722, 0.2572736 , 0.57120268, 0.38881942,\n",
       "        0.27556518, 0.09229047, 0.27972062, 0.75991874, 0.6005934 ,\n",
       "        0.21384691, 0.89935448, 0.7253079 , 0.34296235, 0.36841929,\n",
       "        0.03544698, 0.97757972, 0.73980073, 0.65262805, 0.57110231,\n",
       "        0.05094529, 0.31995099, 0.01748454, 0.30898018, 0.72348893,\n",
       "        0.23725885, 0.10169878, 0.23110877, 0.04421626, 0.02311713],\n",
       "       [0.10713557, 0.57752237, 0.24373611, 0.21904381, 0.28209611,\n",
       "        0.60519154, 0.35981443, 0.90535042, 0.94221903, 0.03645221,\n",
       "        0.38025927, 0.88818533, 0.54423028, 0.96306732, 0.14303274,\n",
       "        0.38931971, 0.67311484, 0.50872857, 0.33850813, 0.47268208,\n",
       "        0.77883063, 0.61304143, 0.49040601, 0.5996071 , 0.96460674,\n",
       "        0.12589595, 0.20530747, 0.87545144, 0.53912423, 0.325776  ],\n",
       "       [0.04751343, 0.05507286, 0.06315903, 0.19068634, 0.80883938,\n",
       "        0.57995575, 0.68821702, 0.64871023, 0.15586415, 0.20848955,\n",
       "        0.31670935, 0.12530071, 0.33141313, 0.94117827, 0.8169577 ,\n",
       "        0.96079431, 0.23791952, 0.67509813, 0.88869571, 0.59227218,\n",
       "        0.01869981, 0.96132263, 0.20920736, 0.97527758, 0.39277376,\n",
       "        0.0654243 , 0.07962979, 0.13123951, 0.63819616, 0.04301445]])"
      ]
     },
     "execution_count": 16,
     "metadata": {},
     "output_type": "execute_result"
    }
   ],
   "source": [
    "rndnumber"
   ]
  },
  {
   "cell_type": "code",
   "execution_count": 19,
   "metadata": {},
   "outputs": [
    {
     "data": {
      "text/plain": [
       "array([0.20727245, 1.28722245, 0.56416874, 0.98093283, 1.47975491,\n",
       "       1.46071247, 1.14032193, 1.83378127, 1.85800192, 0.84553516,\n",
       "       0.91081553, 1.91284051, 1.60095132, 2.24720794, 1.32840973,\n",
       "       1.385561  , 1.88861408, 1.92362743, 1.87983189, 1.63605658,\n",
       "       0.84847573, 1.89431505, 0.71709791, 1.88386486, 2.08086943,\n",
       "       0.4285791 , 0.38663604, 1.23779972, 1.22153665, 0.39190759])"
      ]
     },
     "execution_count": 19,
     "metadata": {},
     "output_type": "execute_result"
    }
   ],
   "source": [
    "sum(rndnumber)\n",
    "np.sum(rndnumber, axis = 0)"
   ]
  },
  {
   "cell_type": "code",
   "execution_count": 20,
   "metadata": {},
   "outputs": [
    {
     "data": {
      "text/plain": [
       "array([0.20727245, 1.28722245, 0.56416874, 0.98093283, 1.47975491,\n",
       "       1.46071247, 1.14032193, 1.83378127, 1.85800192, 0.84553516,\n",
       "       0.91081553, 1.91284051, 1.60095132, 2.24720794, 1.32840973,\n",
       "       1.385561  , 1.88861408, 1.92362743, 1.87983189, 1.63605658,\n",
       "       0.84847573, 1.89431505, 0.71709791, 1.88386486, 2.08086943,\n",
       "       0.4285791 , 0.38663604, 1.23779972, 1.22153665, 0.39190759])"
      ]
     },
     "execution_count": 20,
     "metadata": {},
     "output_type": "execute_result"
    }
   ],
   "source": [
    "np.nansum(rndnumber, axis = 0)"
   ]
  },
  {
   "cell_type": "code",
   "execution_count": 21,
   "metadata": {},
   "outputs": [
    {
     "data": {
      "text/plain": [
       "array([0.06909082, 0.42907415, 0.18805625, 0.32697761, 0.49325164,\n",
       "       0.48690416, 0.38010731, 0.61126042, 0.61933397, 0.28184505,\n",
       "       0.30360518, 0.6376135 , 0.53365044, 0.74906931, 0.44280324,\n",
       "       0.46185367, 0.62953803, 0.64120914, 0.62661063, 0.54535219,\n",
       "       0.28282524, 0.63143835, 0.23903264, 0.62795495, 0.69362314,\n",
       "       0.1428597 , 0.12887868, 0.41259991, 0.40717888, 0.13063586])"
      ]
     },
     "execution_count": 21,
     "metadata": {},
     "output_type": "execute_result"
    }
   ],
   "source": [
    "np.mean(rndnumber, axis = 0)"
   ]
  },
  {
   "cell_type": "code",
   "execution_count": 22,
   "metadata": {},
   "outputs": [
    {
     "data": {
      "text/plain": [
       "array([0.02698247, 0.26632563, 0.08848843, 0.17308081, 0.22736781,\n",
       "       0.14979393, 0.24370879, 0.2567814 , 0.33606702, 0.23607851,\n",
       "       0.06856655, 0.36228855, 0.16098079, 0.2873    , 0.28011122,\n",
       "       0.38123728, 0.30353309, 0.09733082, 0.22536529, 0.05210726,\n",
       "       0.35097573, 0.26216182, 0.19421781, 0.27275233, 0.23440309,\n",
       "       0.0711693 , 0.05478917, 0.32981523, 0.25982072, 0.13822381])"
      ]
     },
     "execution_count": 22,
     "metadata": {},
     "output_type": "execute_result"
    }
   ],
   "source": [
    "np.std(rndnumber, axis = 0)"
   ]
  },
  {
   "cell_type": "code",
   "execution_count": 24,
   "metadata": {},
   "outputs": [],
   "source": [
    "np_array = np.array([4,65,7,4,23,5])"
   ]
  },
  {
   "cell_type": "code",
   "execution_count": 25,
   "metadata": {},
   "outputs": [
    {
     "data": {
      "text/plain": [
       "array([ 4, 65,  7,  4, 23,  5])"
      ]
     },
     "execution_count": 25,
     "metadata": {},
     "output_type": "execute_result"
    }
   ],
   "source": [
    "np_array"
   ]
  },
  {
   "cell_type": "code",
   "execution_count": 26,
   "metadata": {},
   "outputs": [
    {
     "data": {
      "text/plain": [
       "array([ True, False,  True,  True,  True,  True])"
      ]
     },
     "execution_count": 26,
     "metadata": {},
     "output_type": "execute_result"
    }
   ],
   "source": [
    "np_array < 50"
   ]
  },
  {
   "cell_type": "code",
   "execution_count": 27,
   "metadata": {},
   "outputs": [
    {
     "data": {
      "text/plain": [
       "array([False,  True, False, False, False, False])"
      ]
     },
     "execution_count": 27,
     "metadata": {},
     "output_type": "execute_result"
    }
   ],
   "source": [
    "np_array > 50"
   ]
  },
  {
   "cell_type": "code",
   "execution_count": 28,
   "metadata": {},
   "outputs": [
    {
     "data": {
      "text/plain": [
       "array([False, False, False, False, False, False])"
      ]
     },
     "execution_count": 28,
     "metadata": {},
     "output_type": "execute_result"
    }
   ],
   "source": [
    "np_array == 50"
   ]
  },
  {
   "cell_type": "code",
   "execution_count": 29,
   "metadata": {},
   "outputs": [
    {
     "data": {
      "text/plain": [
       "array([ True, False,  True,  True,  True,  True])"
      ]
     },
     "execution_count": 29,
     "metadata": {},
     "output_type": "execute_result"
    }
   ],
   "source": [
    "np_array <= 50"
   ]
  },
  {
   "cell_type": "code",
   "execution_count": 30,
   "metadata": {},
   "outputs": [
    {
     "data": {
      "text/plain": [
       "array([False,  True, False, False, False, False])"
      ]
     },
     "execution_count": 30,
     "metadata": {},
     "output_type": "execute_result"
    }
   ],
   "source": [
    "np_array >= 50"
   ]
  },
  {
   "cell_type": "code",
   "execution_count": 31,
   "metadata": {},
   "outputs": [
    {
     "data": {
      "text/plain": [
       "array([ True,  True,  True,  True,  True,  True])"
      ]
     },
     "execution_count": 31,
     "metadata": {},
     "output_type": "execute_result"
    }
   ],
   "source": [
    "np_array != 50"
   ]
  },
  {
   "cell_type": "code",
   "execution_count": 32,
   "metadata": {},
   "outputs": [
    {
     "data": {
      "text/plain": [
       "array([False, False, False, False, False, False])"
      ]
     },
     "execution_count": 32,
     "metadata": {},
     "output_type": "execute_result"
    }
   ],
   "source": [
    "(2* np_array) < (2%np_array)"
   ]
  },
  {
   "cell_type": "code",
   "execution_count": 33,
   "metadata": {},
   "outputs": [
    {
     "data": {
      "text/plain": [
       "array([ True, False,  True,  True,  True,  True])"
      ]
     },
     "execution_count": 33,
     "metadata": {},
     "output_type": "execute_result"
    }
   ],
   "source": [
    "np_array < 50"
   ]
  },
  {
   "cell_type": "code",
   "execution_count": 35,
   "metadata": {},
   "outputs": [],
   "source": [
    "rndnumber=rndnumber[0]"
   ]
  },
  {
   "cell_type": "code",
   "execution_count": 36,
   "metadata": {},
   "outputs": [
    {
     "data": {
      "text/plain": [
       "array([0.05262345, 0.65462722, 0.2572736 , 0.57120268, 0.38881942,\n",
       "       0.27556518, 0.09229047, 0.27972062, 0.75991874, 0.6005934 ,\n",
       "       0.21384691, 0.89935448, 0.7253079 , 0.34296235, 0.36841929,\n",
       "       0.03544698, 0.97757972, 0.73980073, 0.65262805, 0.57110231,\n",
       "       0.05094529, 0.31995099, 0.01748454, 0.30898018, 0.72348893,\n",
       "       0.23725885, 0.10169878, 0.23110877, 0.04421626, 0.02311713])"
      ]
     },
     "execution_count": 36,
     "metadata": {},
     "output_type": "execute_result"
    }
   ],
   "source": [
    "rndnumber"
   ]
  },
  {
   "cell_type": "code",
   "execution_count": 37,
   "metadata": {},
   "outputs": [
    {
     "data": {
      "text/plain": [
       "19"
      ]
     },
     "execution_count": 37,
     "metadata": {},
     "output_type": "execute_result"
    }
   ],
   "source": [
    "np.sum(rndnumber<0.5)"
   ]
  },
  {
   "cell_type": "code",
   "execution_count": 38,
   "metadata": {},
   "outputs": [],
   "source": [
    "rnd_number = np.random.random((3,4))"
   ]
  },
  {
   "cell_type": "code",
   "execution_count": 39,
   "metadata": {},
   "outputs": [
    {
     "data": {
      "text/plain": [
       "array([[0.46550965, 0.6824751 , 0.04872707, 0.66464745],\n",
       "       [0.15683703, 0.30993489, 0.44294329, 0.37465995],\n",
       "       [0.81666302, 0.77279141, 0.05461713, 0.15609879]])"
      ]
     },
     "execution_count": 39,
     "metadata": {},
     "output_type": "execute_result"
    }
   ],
   "source": [
    "rnd_number"
   ]
  },
  {
   "cell_type": "code",
   "execution_count": 40,
   "metadata": {},
   "outputs": [
    {
     "data": {
      "text/plain": [
       "array([[0.15683703, 0.30993489, 0.04872707, 0.15609879],\n",
       "       [0.46550965, 0.6824751 , 0.05461713, 0.37465995],\n",
       "       [0.81666302, 0.77279141, 0.44294329, 0.66464745]])"
      ]
     },
     "execution_count": 40,
     "metadata": {},
     "output_type": "execute_result"
    }
   ],
   "source": [
    "np.sort(rnd_number, axis = 0)"
   ]
  },
  {
   "cell_type": "code",
   "execution_count": 41,
   "metadata": {},
   "outputs": [
    {
     "data": {
      "text/plain": [
       "array([[0.04872707, 0.46550965, 0.66464745, 0.6824751 ],\n",
       "       [0.15683703, 0.30993489, 0.37465995, 0.44294329],\n",
       "       [0.05461713, 0.15609879, 0.77279141, 0.81666302]])"
      ]
     },
     "execution_count": 41,
     "metadata": {},
     "output_type": "execute_result"
    }
   ],
   "source": [
    "np.sort(rnd_number, axis = 1)"
   ]
  },
  {
   "cell_type": "code",
   "execution_count": 43,
   "metadata": {},
   "outputs": [],
   "source": [
    "ar=np.array=[2,4,56,6,4,4,3,67,8,1]"
   ]
  },
  {
   "cell_type": "code",
   "execution_count": 44,
   "metadata": {},
   "outputs": [
    {
     "data": {
      "text/plain": [
       "[2, 4, 56, 6, 4, 4, 3, 67, 8, 1]"
      ]
     },
     "execution_count": 44,
     "metadata": {},
     "output_type": "execute_result"
    }
   ],
   "source": [
    "ar"
   ]
  },
  {
   "cell_type": "code",
   "execution_count": 45,
   "metadata": {},
   "outputs": [
    {
     "data": {
      "text/plain": [
       "array([ 1,  2,  3,  6,  4,  4, 56, 67,  8,  4])"
      ]
     },
     "execution_count": 45,
     "metadata": {},
     "output_type": "execute_result"
    }
   ],
   "source": [
    "np.partition(ar,2)"
   ]
  },
  {
   "cell_type": "code",
   "execution_count": 46,
   "metadata": {},
   "outputs": [
    {
     "data": {
      "text/plain": [
       "array([ 1,  2,  3,  4,  4,  4,  6,  8, 56, 67])"
      ]
     },
     "execution_count": 46,
     "metadata": {},
     "output_type": "execute_result"
    }
   ],
   "source": [
    "np.partition(ar,5)"
   ]
  },
  {
   "cell_type": "code",
   "execution_count": null,
   "metadata": {},
   "outputs": [],
   "source": []
  }
 ],
 "metadata": {
  "kernelspec": {
   "display_name": "Python 3",
   "language": "python",
   "name": "python3"
  },
  "language_info": {
   "codemirror_mode": {
    "name": "ipython",
    "version": 3
   },
   "file_extension": ".py",
   "mimetype": "text/x-python",
   "name": "python",
   "nbconvert_exporter": "python",
   "pygments_lexer": "ipython3",
   "version": "3.7.2"
  }
 },
 "nbformat": 4,
 "nbformat_minor": 2
}
